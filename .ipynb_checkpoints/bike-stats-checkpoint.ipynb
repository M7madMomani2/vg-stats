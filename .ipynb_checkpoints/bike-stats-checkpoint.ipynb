{
 "cells": [
  {
   "cell_type": "markdown",
   "metadata": {},
   "source": [
    "## Data Analysis with Pandas\n"
   ]
  },
  {
   "cell_type": "markdown",
   "metadata": {},
   "source": [
    "\n",
    "\n",
    "\n",
    "1 -  What is the average trip duration for a borrowed bicycle?\n",
    "\n",
    "2 - What’s the most common age of a bicycle-sharer?\n",
    "\n",
    "3 - Given all the weather data here, find the average precipitation per month, and the median precipitation.\n",
    "\n",
    "4 - What’s the average number of bikes at a given bike station?\n",
    "\n",
    "5 - When a bike station is modified, is it more likely that it’ll lose bikes or gain bikes? How do you know?\n",
    "\n",
    "6 - For the top-selling game of all time, how many standard deviations above/below the mean are its sales for North America?\n",
    "\n",
    "7 - The Nintendo Wii seems to have outdone itself with games. How does its average number of sales compare with all of the other platforms?\n",
    "\n",
    "- Q1- 1178.2956753399776\n",
    "\n",
    "- Q2- 33.0\n",
    "\n",
    "- Q3- Figure it out\n",
    "\n",
    "- Q4- 17.74074074074074\n",
    "\n",
    "- Q5- Figure it out\n",
    "\n",
    "\n",
    "\n"
   ]
  },
  {
   "cell_type": "code",
   "execution_count": 1,
   "metadata": {},
   "outputs": [
    {
     "name": "stderr",
     "output_type": "stream",
     "text": [
      "b'Skipping line 50794: expected 12 fields, saw 20\\n'\n"
     ]
    }
   ],
   "source": [
    "import pandas as pd\n",
    "\n",
    "df = pd.read_csv('./station.csv')\n",
    "# print(df.head(1))\n",
    "\n",
    "df_weather = pd.read_csv('./weather.csv')\n",
    "#\n",
    "df_trip = pd.read_csv('./trip.csv', error_bad_lines=False)\n",
    "# print(df_trip)"
   ]
  },
  {
   "cell_type": "code",
   "execution_count": 2,
   "metadata": {},
   "outputs": [
    {
     "data": {
      "text/plain": [
       "1178.2956753399776"
      ]
     },
     "execution_count": 2,
     "metadata": {},
     "output_type": "execute_result"
    }
   ],
   "source": [
    "# 1 -  What is the average trip duration for a borrowed bicycle?\n",
    "average_trip = df_trip[\"tripduration\"].mean()\n",
    "average_trip"
   ]
  },
  {
   "cell_type": "code",
   "execution_count": 3,
   "metadata": {},
   "outputs": [
    {
     "data": {
      "text/plain": [
       "34.0"
      ]
     },
     "execution_count": 3,
     "metadata": {},
     "output_type": "execute_result"
    }
   ],
   "source": [
    "# 2 - What’s the most common age of a bicycle-sharer?\n",
    "\n",
    "birth_year = df_trip[\"birthyear\"].value_counts().idxmax()\n",
    "common_age = 2021 - birth_year\n",
    "common_age"
   ]
  },
  {
   "cell_type": "code",
   "execution_count": 4,
   "metadata": {},
   "outputs": [
    {
     "data": {
      "text/plain": [
       "0.10506531204644412"
      ]
     },
     "execution_count": 4,
     "metadata": {},
     "output_type": "execute_result"
    }
   ],
   "source": [
    "# 3 - Given all the weather data here, find the average precipitation per month, and the median precipitation.\n",
    "df_weather\n",
    "average_precipitation=df_weather[\"Precipitation_In\"].mean()\n",
    "median_precipitationdf=df_weather[\"Precipitation_In\"].median()\n",
    "average_precipitation"
   ]
  },
  {
   "cell_type": "code",
   "execution_count": 5,
   "metadata": {},
   "outputs": [
    {
     "data": {
      "text/plain": [
       "17.586206896551722"
      ]
     },
     "execution_count": 5,
     "metadata": {},
     "output_type": "execute_result"
    }
   ],
   "source": [
    "# 4 - What’s the average number of bikes at a given bike station?\n",
    "given_bike_station = df['install_dockcount'].mean()\n",
    "given_bike_station"
   ]
  },
  {
   "cell_type": "code",
   "execution_count": 6,
   "metadata": {},
   "outputs": [
    {
     "data": {
      "text/plain": [
       "-64"
      ]
     },
     "execution_count": 6,
     "metadata": {},
     "output_type": "execute_result"
    }
   ],
   "source": [
    "# 5 - When a bike station is modified, is it more likely that it’ll lose bikes or gain bikes? How do you know?\n",
    "\n",
    "data = df[['modification_date','current_dockcount','install_dockcount']].dropna()\n",
    "lose_or_gain  = data['current_dockcount'].sum() - data['install_dockcount'].sum()\n",
    "lose_or_gain"
   ]
  },
  {
   "cell_type": "code",
   "execution_count": 7,
   "metadata": {},
   "outputs": [
    {
     "data": {
      "text/plain": [
       "1979"
      ]
     },
     "execution_count": 7,
     "metadata": {},
     "output_type": "execute_result"
    }
   ],
   "source": [
    "# Give me the average of tripduration\n",
    "average_of_tripduration = df_trip[\"birthyear\"].mean()\n",
    "int(average_of_tripduration)"
   ]
  }
 ],
 "metadata": {
  "kernelspec": {
   "display_name": "Python 3",
   "language": "python",
   "name": "python3"
  },
  "language_info": {
   "codemirror_mode": {
    "name": "ipython",
    "version": 3
   },
   "file_extension": ".py",
   "mimetype": "text/x-python",
   "name": "python",
   "nbconvert_exporter": "python",
   "pygments_lexer": "ipython3",
   "version": "3.8.5"
  }
 },
 "nbformat": 4,
 "nbformat_minor": 4
}
